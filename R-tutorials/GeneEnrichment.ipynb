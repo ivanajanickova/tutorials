{
 "cells": [
  {
   "cell_type": "code",
   "execution_count": null,
   "metadata": {},
   "outputs": [],
   "source": [
    "library(data.table)\n",
    "library(purrr)\n",
    "library(ggplot2)\n",
    "library(cowplot)\n",
    "library(MOFAdata)\n",
    "library(MOFA2)"
   ]
  },
  {
   "cell_type": "code",
   "execution_count": 8,
   "metadata": {},
   "outputs": [
    {
     "name": "stderr",
     "output_type": "stream",
     "text": [
      "Warning message in gzfile(file, \"rb\"):\n",
      "“cannot open compressed file '/Users/ricard/data/gastrulation10x_mofa/model.rds', probable reason 'No such file or directory'”\n"
     ]
    },
    {
     "ename": "ERROR",
     "evalue": "Error in gzfile(file, \"rb\"): cannot open the connection\n",
     "output_type": "error",
     "traceback": [
      "Error in gzfile(file, \"rb\"): cannot open the connection\nTraceback:\n",
      "1. readRDS(\"/Users/ricard/data/gastrulation10x_mofa/model.rds\")",
      "2. gzfile(file, \"rb\")"
     ]
    }
   ],
   "source": [
    "# Loading pre-computed model \n",
    "# CANNOT LOAD THE MODEL\n",
    "\n",
    "load(url(\"ftp://ftp.ebi.ac.uk/pub/databases/mofa/scrna_gastrulation/gastrulation10x_mofa.RData\"))\n",
    "model <- readRDS(\"/Users/ricard/data/gastrulation10x_mofa/model.rds\")\n",
    "\n",
    "model"
   ]
  },
  {
   "cell_type": "code",
   "execution_count": 6,
   "metadata": {},
   "outputs": [
    {
     "ename": "ERROR",
     "evalue": "Error in h(simpleError(msg, call)): error in evaluating the argument 'object' in selecting a method for function 'features_names': object 'model' not found\n",
     "output_type": "error",
     "traceback": [
      "Error in h(simpleError(msg, call)): error in evaluating the argument 'object' in selecting a method for function 'features_names': object 'model' not found\nTraceback:\n",
      "1. toupper(features_names(model)[[\"RNA\"]])",
      "2. features_names(model)",
      "3. .handleSimpleError(function (cond) \n . .Internal(C_tryCatchHelper(addr, 1L, cond)), \"object 'model' not found\", \n .     base::quote(features_names(model)))",
      "4. h(simpleError(msg, call))"
     ]
    }
   ],
   "source": [
    "# Gene set: use the MSigDB_v6.0_C5_mouse gene set annotations, which are derived from the Gene Ontology database\n",
    "data(\"MSigDB_v6.0_C5_mouse\") \n",
    "# match the gene names in the MOFA object to the gene names in the gene set annotation. (capitalise the gene names in MOFA)\n",
    "\n",
    "features_names(model)[[\"RNA\"]] <- toupper(features_names(model)[[\"RNA\"]])\n",
    "head(features_names(model)[[\"RNA\"]])"
   ]
  },
  {
   "cell_type": "code",
   "execution_count": null,
   "metadata": {},
   "outputs": [],
   "source": [
    "# Run Erichment Analysis\n",
    "enrichment.parametric <- run_enrichment(model,\n",
    "  view = \"RNA\", factors = 1:3,\n",
    "  feature.sets = MSigDB_v6.0_C5_mouse,\n",
    "  sign = \"negative\",\n",
    "  statistical.test = \"parametric\"\n",
    ")"
   ]
  }
 ],
 "metadata": {
  "kernelspec": {
   "display_name": "R",
   "language": "R",
   "name": "ir"
  },
  "language_info": {
   "codemirror_mode": "r",
   "file_extension": ".r",
   "mimetype": "text/x-r-source",
   "name": "R",
   "pygments_lexer": "r",
   "version": "4.1.1"
  }
 },
 "nbformat": 4,
 "nbformat_minor": 4
}
