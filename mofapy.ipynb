{
  "nbformat": 4,
  "nbformat_minor": 0,
  "metadata": {
    "colab": {
      "name": "mofapy.ipynb",
      "provenance": []
    },
    "kernelspec": {
      "name": "python3",
      "display_name": "Python 3"
    },
    "language_info": {
      "name": "python"
    }
  },
  "cells": [
    {
      "cell_type": "code",
      "metadata": {
        "colab": {
          "base_uri": "https://localhost:8080/",
          "height": 506
        },
        "id": "X9sWejHHm2jE",
        "outputId": "f9d38701-98cd-462c-8649-721b751fa349"
      },
      "source": [
        "!pip install mofapy2"
      ],
      "execution_count": 1,
      "outputs": [
        {
          "output_type": "stream",
          "name": "stdout",
          "text": [
            "Collecting mofapy2\n",
            "  Downloading mofapy2-0.6.4.tar.gz (950 kB)\n",
            "\u001b[?25l\r\u001b[K     |▍                               | 10 kB 28.2 MB/s eta 0:00:01\r\u001b[K     |▊                               | 20 kB 36.2 MB/s eta 0:00:01\r\u001b[K     |█                               | 30 kB 33.0 MB/s eta 0:00:01\r\u001b[K     |█▍                              | 40 kB 23.5 MB/s eta 0:00:01\r\u001b[K     |█▊                              | 51 kB 12.6 MB/s eta 0:00:01\r\u001b[K     |██                              | 61 kB 11.0 MB/s eta 0:00:01\r\u001b[K     |██▍                             | 71 kB 12.2 MB/s eta 0:00:01\r\u001b[K     |██▊                             | 81 kB 13.6 MB/s eta 0:00:01\r\u001b[K     |███                             | 92 kB 14.9 MB/s eta 0:00:01\r\u001b[K     |███▌                            | 102 kB 12.2 MB/s eta 0:00:01\r\u001b[K     |███▉                            | 112 kB 12.2 MB/s eta 0:00:01\r\u001b[K     |████▏                           | 122 kB 12.2 MB/s eta 0:00:01\r\u001b[K     |████▌                           | 133 kB 12.2 MB/s eta 0:00:01\r\u001b[K     |████▉                           | 143 kB 12.2 MB/s eta 0:00:01\r\u001b[K     |█████▏                          | 153 kB 12.2 MB/s eta 0:00:01\r\u001b[K     |█████▌                          | 163 kB 12.2 MB/s eta 0:00:01\r\u001b[K     |█████▉                          | 174 kB 12.2 MB/s eta 0:00:01\r\u001b[K     |██████▏                         | 184 kB 12.2 MB/s eta 0:00:01\r\u001b[K     |██████▌                         | 194 kB 12.2 MB/s eta 0:00:01\r\u001b[K     |███████                         | 204 kB 12.2 MB/s eta 0:00:01\r\u001b[K     |███████▎                        | 215 kB 12.2 MB/s eta 0:00:01\r\u001b[K     |███████▋                        | 225 kB 12.2 MB/s eta 0:00:01\r\u001b[K     |████████                        | 235 kB 12.2 MB/s eta 0:00:01\r\u001b[K     |████████▎                       | 245 kB 12.2 MB/s eta 0:00:01\r\u001b[K     |████████▋                       | 256 kB 12.2 MB/s eta 0:00:01\r\u001b[K     |█████████                       | 266 kB 12.2 MB/s eta 0:00:01\r\u001b[K     |█████████▎                      | 276 kB 12.2 MB/s eta 0:00:01\r\u001b[K     |█████████▋                      | 286 kB 12.2 MB/s eta 0:00:01\r\u001b[K     |██████████                      | 296 kB 12.2 MB/s eta 0:00:01\r\u001b[K     |██████████▍                     | 307 kB 12.2 MB/s eta 0:00:01\r\u001b[K     |██████████▊                     | 317 kB 12.2 MB/s eta 0:00:01\r\u001b[K     |███████████                     | 327 kB 12.2 MB/s eta 0:00:01\r\u001b[K     |███████████▍                    | 337 kB 12.2 MB/s eta 0:00:01\r\u001b[K     |███████████▊                    | 348 kB 12.2 MB/s eta 0:00:01\r\u001b[K     |████████████                    | 358 kB 12.2 MB/s eta 0:00:01\r\u001b[K     |████████████▍                   | 368 kB 12.2 MB/s eta 0:00:01\r\u001b[K     |████████████▊                   | 378 kB 12.2 MB/s eta 0:00:01\r\u001b[K     |█████████████                   | 389 kB 12.2 MB/s eta 0:00:01\r\u001b[K     |█████████████▍                  | 399 kB 12.2 MB/s eta 0:00:01\r\u001b[K     |█████████████▉                  | 409 kB 12.2 MB/s eta 0:00:01\r\u001b[K     |██████████████▏                 | 419 kB 12.2 MB/s eta 0:00:01\r\u001b[K     |██████████████▌                 | 430 kB 12.2 MB/s eta 0:00:01\r\u001b[K     |██████████████▉                 | 440 kB 12.2 MB/s eta 0:00:01\r\u001b[K     |███████████████▏                | 450 kB 12.2 MB/s eta 0:00:01\r\u001b[K     |███████████████▌                | 460 kB 12.2 MB/s eta 0:00:01\r\u001b[K     |███████████████▉                | 471 kB 12.2 MB/s eta 0:00:01\r\u001b[K     |████████████████▏               | 481 kB 12.2 MB/s eta 0:00:01\r\u001b[K     |████████████████▌               | 491 kB 12.2 MB/s eta 0:00:01\r\u001b[K     |████████████████▉               | 501 kB 12.2 MB/s eta 0:00:01\r\u001b[K     |█████████████████▎              | 512 kB 12.2 MB/s eta 0:00:01\r\u001b[K     |█████████████████▋              | 522 kB 12.2 MB/s eta 0:00:01\r\u001b[K     |██████████████████              | 532 kB 12.2 MB/s eta 0:00:01\r\u001b[K     |██████████████████▎             | 542 kB 12.2 MB/s eta 0:00:01\r\u001b[K     |██████████████████▋             | 552 kB 12.2 MB/s eta 0:00:01\r\u001b[K     |███████████████████             | 563 kB 12.2 MB/s eta 0:00:01\r\u001b[K     |███████████████████▎            | 573 kB 12.2 MB/s eta 0:00:01\r\u001b[K     |███████████████████▋            | 583 kB 12.2 MB/s eta 0:00:01\r\u001b[K     |████████████████████            | 593 kB 12.2 MB/s eta 0:00:01\r\u001b[K     |████████████████████▎           | 604 kB 12.2 MB/s eta 0:00:01\r\u001b[K     |████████████████████▊           | 614 kB 12.2 MB/s eta 0:00:01\r\u001b[K     |█████████████████████           | 624 kB 12.2 MB/s eta 0:00:01\r\u001b[K     |█████████████████████▍          | 634 kB 12.2 MB/s eta 0:00:01\r\u001b[K     |█████████████████████▊          | 645 kB 12.2 MB/s eta 0:00:01\r\u001b[K     |██████████████████████          | 655 kB 12.2 MB/s eta 0:00:01\r\u001b[K     |██████████████████████▍         | 665 kB 12.2 MB/s eta 0:00:01\r\u001b[K     |██████████████████████▊         | 675 kB 12.2 MB/s eta 0:00:01\r\u001b[K     |███████████████████████         | 686 kB 12.2 MB/s eta 0:00:01\r\u001b[K     |███████████████████████▍        | 696 kB 12.2 MB/s eta 0:00:01\r\u001b[K     |███████████████████████▊        | 706 kB 12.2 MB/s eta 0:00:01\r\u001b[K     |████████████████████████▏       | 716 kB 12.2 MB/s eta 0:00:01\r\u001b[K     |████████████████████████▌       | 727 kB 12.2 MB/s eta 0:00:01\r\u001b[K     |████████████████████████▉       | 737 kB 12.2 MB/s eta 0:00:01\r\u001b[K     |█████████████████████████▏      | 747 kB 12.2 MB/s eta 0:00:01\r\u001b[K     |█████████████████████████▌      | 757 kB 12.2 MB/s eta 0:00:01\r\u001b[K     |█████████████████████████▉      | 768 kB 12.2 MB/s eta 0:00:01\r\u001b[K     |██████████████████████████▏     | 778 kB 12.2 MB/s eta 0:00:01\r\u001b[K     |██████████████████████████▌     | 788 kB 12.2 MB/s eta 0:00:01\r\u001b[K     |██████████████████████████▉     | 798 kB 12.2 MB/s eta 0:00:01\r\u001b[K     |███████████████████████████▎    | 808 kB 12.2 MB/s eta 0:00:01\r\u001b[K     |███████████████████████████▋    | 819 kB 12.2 MB/s eta 0:00:01\r\u001b[K     |████████████████████████████    | 829 kB 12.2 MB/s eta 0:00:01\r\u001b[K     |████████████████████████████▎   | 839 kB 12.2 MB/s eta 0:00:01\r\u001b[K     |████████████████████████████▋   | 849 kB 12.2 MB/s eta 0:00:01\r\u001b[K     |█████████████████████████████   | 860 kB 12.2 MB/s eta 0:00:01\r\u001b[K     |█████████████████████████████▎  | 870 kB 12.2 MB/s eta 0:00:01\r\u001b[K     |█████████████████████████████▋  | 880 kB 12.2 MB/s eta 0:00:01\r\u001b[K     |██████████████████████████████  | 890 kB 12.2 MB/s eta 0:00:01\r\u001b[K     |██████████████████████████████▎ | 901 kB 12.2 MB/s eta 0:00:01\r\u001b[K     |██████████████████████████████▊ | 911 kB 12.2 MB/s eta 0:00:01\r\u001b[K     |███████████████████████████████ | 921 kB 12.2 MB/s eta 0:00:01\r\u001b[K     |███████████████████████████████▍| 931 kB 12.2 MB/s eta 0:00:01\r\u001b[K     |███████████████████████████████▊| 942 kB 12.2 MB/s eta 0:00:01\r\u001b[K     |████████████████████████████████| 950 kB 12.2 MB/s \n",
            "\u001b[?25h  Installing build dependencies ... \u001b[?25l\u001b[?25hdone\n",
            "  Getting requirements to build wheel ... \u001b[?25l\u001b[?25hdone\n",
            "    Preparing wheel metadata ... \u001b[?25l\u001b[?25hdone\n",
            "Requirement already satisfied: pandas in /usr/local/lib/python3.7/dist-packages (from mofapy2) (1.1.5)\n",
            "Collecting argparse\n",
            "  Downloading argparse-1.4.0-py2.py3-none-any.whl (23 kB)\n",
            "Requirement already satisfied: scipy in /usr/local/lib/python3.7/dist-packages (from mofapy2) (1.4.1)\n",
            "Requirement already satisfied: numpy in /usr/local/lib/python3.7/dist-packages (from mofapy2) (1.19.5)\n",
            "Requirement already satisfied: scikit-learn in /usr/local/lib/python3.7/dist-packages (from mofapy2) (0.22.2.post1)\n",
            "Requirement already satisfied: h5py in /usr/local/lib/python3.7/dist-packages (from mofapy2) (3.1.0)\n",
            "Requirement already satisfied: cached-property in /usr/local/lib/python3.7/dist-packages (from h5py->mofapy2) (1.5.2)\n",
            "Requirement already satisfied: python-dateutil>=2.7.3 in /usr/local/lib/python3.7/dist-packages (from pandas->mofapy2) (2.8.2)\n",
            "Requirement already satisfied: pytz>=2017.2 in /usr/local/lib/python3.7/dist-packages (from pandas->mofapy2) (2018.9)\n",
            "Requirement already satisfied: six>=1.5 in /usr/local/lib/python3.7/dist-packages (from python-dateutil>=2.7.3->pandas->mofapy2) (1.15.0)\n",
            "Requirement already satisfied: joblib>=0.11 in /usr/local/lib/python3.7/dist-packages (from scikit-learn->mofapy2) (1.0.1)\n",
            "Building wheels for collected packages: mofapy2\n",
            "  Building wheel for mofapy2 (PEP 517) ... \u001b[?25l\u001b[?25hdone\n",
            "  Created wheel for mofapy2: filename=mofapy2-0.6.4-py3-none-any.whl size=119949 sha256=b0655a5208268153a6ebec44c5f75feea01dbe83abe7cff66905ad325b1d5253\n",
            "  Stored in directory: /root/.cache/pip/wheels/1c/85/82/5c9e8fc37c56a81e5a91818183a6ca21e96181a8e5b6681294\n",
            "Successfully built mofapy2\n",
            "Installing collected packages: argparse, mofapy2\n",
            "Successfully installed argparse-1.4.0 mofapy2-0.6.4\n"
          ]
        },
        {
          "output_type": "display_data",
          "data": {
            "application/vnd.colab-display-data+json": {
              "pip_warning": {
                "packages": [
                  "argparse"
                ]
              }
            }
          },
          "metadata": {}
        }
      ]
    },
    {
      "cell_type": "code",
      "metadata": {
        "colab": {
          "base_uri": "https://localhost:8080/"
        },
        "id": "XWw9Wj6gm5jv",
        "outputId": "bbb4dd7d-87cd-4fa8-cd99-c711b7bf3d16"
      },
      "source": [
        "from mofapy2.run.entry_point import entry_point\n",
        "import pandas as pd\n",
        "import numpy as np\n",
        "\n",
        "# initialise the entry point\n",
        "ent = entry_point()"
      ],
      "execution_count": 2,
      "outputs": [
        {
          "output_type": "stream",
          "name": "stdout",
          "text": [
            "\n",
            "        #########################################################\n",
            "        ###           __  __  ____  ______                    ### \n",
            "        ###          |  \\/  |/ __ \\|  ____/\\    _             ### \n",
            "        ###          | \\  / | |  | | |__ /  \\ _| |_           ### \n",
            "        ###          | |\\/| | |  | |  __/ /\\ \\_   _|          ###\n",
            "        ###          | |  | | |__| | | / ____ \\|_|            ###\n",
            "        ###          |_|  |_|\\____/|_|/_/    \\_\\              ###\n",
            "        ###                                                   ### \n",
            "        ######################################################### \n",
            "       \n",
            " \n",
            "        \n"
          ]
        }
      ]
    },
    {
      "cell_type": "code",
      "metadata": {
        "colab": {
          "base_uri": "https://localhost:8080/",
          "height": 200
        },
        "id": "LGHRKuyUnhKf",
        "outputId": "cf6d3c6b-e0dc-426e-99c2-3a71d0b4346c"
      },
      "source": [
        "D = [1000,1000] # Number of features per view\n",
        "M = len(D)      # Number of views\n",
        "K = 5           # Number of factors\n",
        "N = [100,100]   # Number of samples per group\n",
        "G = len(N)      # Number of groups\n",
        "\n",
        "data_dt = pd.read_csv(\"http://ftp.ebi.ac.uk/pub/databases/mofa/getting_started/data.txt.gz\", sep=\"\\t\")\n",
        "data_dt.head()"
      ],
      "execution_count": 3,
      "outputs": [
        {
          "output_type": "execute_result",
          "data": {
            "text/html": [
              "<div>\n",
              "<style scoped>\n",
              "    .dataframe tbody tr th:only-of-type {\n",
              "        vertical-align: middle;\n",
              "    }\n",
              "\n",
              "    .dataframe tbody tr th {\n",
              "        vertical-align: top;\n",
              "    }\n",
              "\n",
              "    .dataframe thead th {\n",
              "        text-align: right;\n",
              "    }\n",
              "</style>\n",
              "<table border=\"1\" class=\"dataframe\">\n",
              "  <thead>\n",
              "    <tr style=\"text-align: right;\">\n",
              "      <th></th>\n",
              "      <th>sample</th>\n",
              "      <th>group</th>\n",
              "      <th>feature</th>\n",
              "      <th>view</th>\n",
              "      <th>value</th>\n",
              "    </tr>\n",
              "  </thead>\n",
              "  <tbody>\n",
              "    <tr>\n",
              "      <th>0</th>\n",
              "      <td>sample_0_group_0</td>\n",
              "      <td>group_0</td>\n",
              "      <td>feature_0_view_0</td>\n",
              "      <td>view_0</td>\n",
              "      <td>-2.05</td>\n",
              "    </tr>\n",
              "    <tr>\n",
              "      <th>1</th>\n",
              "      <td>sample_1_group_0</td>\n",
              "      <td>group_0</td>\n",
              "      <td>feature_0_view_0</td>\n",
              "      <td>view_0</td>\n",
              "      <td>0.10</td>\n",
              "    </tr>\n",
              "    <tr>\n",
              "      <th>2</th>\n",
              "      <td>sample_2_group_0</td>\n",
              "      <td>group_0</td>\n",
              "      <td>feature_0_view_0</td>\n",
              "      <td>view_0</td>\n",
              "      <td>1.44</td>\n",
              "    </tr>\n",
              "    <tr>\n",
              "      <th>3</th>\n",
              "      <td>sample_3_group_0</td>\n",
              "      <td>group_0</td>\n",
              "      <td>feature_0_view_0</td>\n",
              "      <td>view_0</td>\n",
              "      <td>-0.28</td>\n",
              "    </tr>\n",
              "    <tr>\n",
              "      <th>4</th>\n",
              "      <td>sample_4_group_0</td>\n",
              "      <td>group_0</td>\n",
              "      <td>feature_0_view_0</td>\n",
              "      <td>view_0</td>\n",
              "      <td>-0.88</td>\n",
              "    </tr>\n",
              "  </tbody>\n",
              "</table>\n",
              "</div>"
            ],
            "text/plain": [
              "             sample    group           feature    view  value\n",
              "0  sample_0_group_0  group_0  feature_0_view_0  view_0  -2.05\n",
              "1  sample_1_group_0  group_0  feature_0_view_0  view_0   0.10\n",
              "2  sample_2_group_0  group_0  feature_0_view_0  view_0   1.44\n",
              "3  sample_3_group_0  group_0  feature_0_view_0  view_0  -0.28\n",
              "4  sample_4_group_0  group_0  feature_0_view_0  view_0  -0.88"
            ]
          },
          "metadata": {},
          "execution_count": 3
        }
      ]
    },
    {
      "cell_type": "code",
      "metadata": {
        "id": "1pa69jJGnveu"
      },
      "source": [
        "data_prefix = \"http://ftp.ebi.ac.uk/pub/databases/mofa/getting_started\"\n",
        "data_mat = [[None for g in range(G)] for m in range(M)]\n",
        "for m in range(M):\n",
        "    for g in range(G):\n",
        "        data_mat[m][g] = np.loadtxt(\"%s/%d_%d.txt.gz\" % (data_prefix,m,g), delimiter=\"\\t\")"
      ],
      "execution_count": 4,
      "outputs": []
    },
    {
      "cell_type": "code",
      "metadata": {
        "colab": {
          "base_uri": "https://localhost:8080/"
        },
        "id": "4BO9Wppqn0Bw",
        "outputId": "eb6f0007-fe72-4a3e-826c-e22c33752dca"
      },
      "source": [
        "# Data options\n",
        "\n",
        "ent.set_data_options(      # ent == mofapy2 entry_point\n",
        "    scale_groups = False,  # if groups have different ranges/variance\n",
        "    scale_views = False    # if views have different ranges/variances\n",
        ")\n",
        "\n",
        "ent.set_data_df(data_dt, likelihoods = [\"gaussian\",\"gaussian\"]) "
      ],
      "execution_count": 5,
      "outputs": [
        {
          "output_type": "stream",
          "name": "stdout",
          "text": [
            "\n",
            "\n",
            "Loaded group='group_0' view='view_0' with N=100 samples and D=1000 features...\n",
            "Loaded group='group_0' view='view_1' with N=100 samples and D=1000 features...\n",
            "Loaded group='group_1' view='view_0' with N=100 samples and D=1000 features...\n",
            "Loaded group='group_1' view='view_1' with N=100 samples and D=1000 features...\n",
            "\n",
            "\n"
          ]
        }
      ]
    },
    {
      "cell_type": "code",
      "metadata": {
        "colab": {
          "base_uri": "https://localhost:8080/"
        },
        "id": "4nKsVMNiqxhL",
        "outputId": "84787035-704d-4103-d796-eed80658fa85"
      },
      "source": [
        "# Model Options\n",
        "\n",
        "ent.set_model_options(\n",
        "    factors = 10, \n",
        "    spikeslab_weights = True, \n",
        "    ard_factors = True,\n",
        "    ard_weights = True\n",
        ")"
      ],
      "execution_count": 6,
      "outputs": [
        {
          "output_type": "stream",
          "name": "stdout",
          "text": [
            "Model options:\n",
            "- Automatic Relevance Determination prior on the factors: True\n",
            "- Automatic Relevance Determination prior on the weights: True\n",
            "- Spike-and-slab prior on the factors: False\n",
            "- Spike-and-slab prior on the weights: True\n",
            "Likelihoods:\n",
            "- View 0 (view_0): gaussian\n",
            "- View 1 (view_1): gaussian\n",
            "\n",
            "\n"
          ]
        }
      ]
    },
    {
      "cell_type": "code",
      "metadata": {
        "colab": {
          "base_uri": "https://localhost:8080/"
        },
        "id": "OP9TZwYY24uv",
        "outputId": "1563fa60-8110-4011-e23a-6d490d7906b0"
      },
      "source": [
        "# Training Options\n",
        "\n",
        "ent.set_train_options(\n",
        "    iter = 1000, \n",
        "    convergence_mode = \"fast\", \n",
        "    startELBO = 1, \n",
        "    freqELBO = 1, \n",
        "    dropR2 = 0.001, \n",
        "    gpu_mode = True, \n",
        "    verbose = False, \n",
        "    seed = 1\n",
        ")"
      ],
      "execution_count": 8,
      "outputs": [
        {
          "output_type": "stream",
          "name": "stdout",
          "text": [
            "\n",
            "GPU mode is activated, but GPU not found... switching to CPU mode\n",
            "For GPU mode, you need:\n",
            "1 - Make sure that you are running MOFA+ on a machine with an NVIDIA GPU\n",
            "2 - Install CUPY following instructions on https://docs-cupy.chainer.org/en/stable/install.html\n",
            "\n"
          ]
        }
      ]
    },
    {
      "cell_type": "code",
      "metadata": {
        "colab": {
          "base_uri": "https://localhost:8080/"
        },
        "id": "UOnD5ZUs2dTG",
        "outputId": "6575916b-7834-470e-95b6-3692298ebf7b"
      },
      "source": [
        "# Building and training MOFA obj\n",
        "\n",
        "ent.build()\n",
        "\n",
        "ent.run()\n",
        "\n",
        "# Save the output\n",
        "ent.save(outfile=None)"
      ],
      "execution_count": 9,
      "outputs": [
        {
          "output_type": "stream",
          "name": "stdout",
          "text": [
            "\n",
            "\n",
            "######################################\n",
            "## Training the model with seed 1 ##\n",
            "######################################\n",
            "\n",
            "\n",
            "ELBO before training: -3182971.59 \n",
            "\n",
            "Iteration 1: time=0.11, ELBO=-564355.78, deltaELBO=2618615.810 (82.26953127%), Factors=9\n",
            "Iteration 2: time=0.07, ELBO=-475614.24, deltaELBO=88741.543 (2.78800928%), Factors=8\n",
            "Iteration 3: time=0.07, ELBO=-467930.10, deltaELBO=7684.135 (0.24141387%), Factors=7\n",
            "Iteration 4: time=0.06, ELBO=-463695.00, deltaELBO=4235.105 (0.13305507%), Factors=6\n",
            "Iteration 5: time=0.06, ELBO=-460859.33, deltaELBO=2835.673 (0.08908885%), Factors=5\n",
            "Iteration 6: time=0.05, ELBO=-460559.27, deltaELBO=300.057 (0.00942693%), Factors=5\n",
            "Iteration 7: time=0.05, ELBO=-460443.43, deltaELBO=115.845 (0.00363952%), Factors=5\n",
            "Iteration 8: time=0.05, ELBO=-460382.56, deltaELBO=60.866 (0.00191223%), Factors=5\n",
            "Iteration 9: time=0.05, ELBO=-460338.54, deltaELBO=44.020 (0.00138300%), Factors=5\n",
            "Iteration 10: time=0.05, ELBO=-460300.14, deltaELBO=38.398 (0.00120637%), Factors=5\n",
            "Iteration 11: time=0.05, ELBO=-460264.33, deltaELBO=35.813 (0.00112514%), Factors=5\n",
            "Iteration 12: time=0.05, ELBO=-460230.61, deltaELBO=33.714 (0.00105920%), Factors=5\n",
            "Iteration 13: time=0.06, ELBO=-460198.89, deltaELBO=31.724 (0.00099669%), Factors=5\n",
            "Iteration 14: time=0.05, ELBO=-460168.88, deltaELBO=30.010 (0.00094284%), Factors=5\n",
            "Iteration 15: time=0.05, ELBO=-460140.21, deltaELBO=28.666 (0.00090060%), Factors=5\n",
            "Iteration 16: time=0.06, ELBO=-460112.63, deltaELBO=27.587 (0.00086671%), Factors=5\n",
            "Iteration 17: time=0.05, ELBO=-460086.04, deltaELBO=26.585 (0.00083523%), Factors=5\n",
            "Iteration 18: time=0.05, ELBO=-460060.51, deltaELBO=25.530 (0.00080207%), Factors=5\n",
            "Iteration 19: time=0.05, ELBO=-460036.11, deltaELBO=24.400 (0.00076657%), Factors=5\n",
            "Iteration 20: time=0.05, ELBO=-460012.83, deltaELBO=23.282 (0.00073145%), Factors=5\n",
            "Iteration 21: time=0.06, ELBO=-459990.54, deltaELBO=22.286 (0.00070015%), Factors=5\n",
            "Iteration 22: time=0.06, ELBO=-459969.11, deltaELBO=21.439 (0.00067354%), Factors=5\n",
            "Iteration 23: time=0.05, ELBO=-459948.35, deltaELBO=20.757 (0.00065213%), Factors=5\n",
            "Iteration 24: time=0.05, ELBO=-459928.04, deltaELBO=20.310 (0.00063809%), Factors=5\n",
            "Iteration 25: time=0.05, ELBO=-459907.90, deltaELBO=20.135 (0.00063260%), Factors=5\n",
            "Iteration 26: time=0.05, ELBO=-459887.69, deltaELBO=20.212 (0.00063499%), Factors=5\n",
            "Iteration 27: time=0.05, ELBO=-459867.22, deltaELBO=20.473 (0.00064321%), Factors=5\n",
            "Iteration 28: time=0.05, ELBO=-459846.40, deltaELBO=20.814 (0.00065393%), Factors=5\n",
            "Iteration 29: time=0.05, ELBO=-459825.30, deltaELBO=21.107 (0.00066312%), Factors=5\n",
            "Iteration 30: time=0.05, ELBO=-459804.06, deltaELBO=21.234 (0.00066710%), Factors=5\n",
            "Iteration 31: time=0.06, ELBO=-459782.90, deltaELBO=21.164 (0.00066492%), Factors=5\n",
            "Iteration 32: time=0.05, ELBO=-459761.93, deltaELBO=20.966 (0.00065870%), Factors=5\n",
            "Iteration 33: time=0.06, ELBO=-459741.21, deltaELBO=20.726 (0.00065117%), Factors=5\n",
            "Iteration 34: time=0.05, ELBO=-459720.70, deltaELBO=20.512 (0.00064442%), Factors=5\n",
            "Iteration 35: time=0.05, ELBO=-459700.33, deltaELBO=20.369 (0.00063992%), Factors=5\n",
            "Iteration 36: time=0.05, ELBO=-459680.01, deltaELBO=20.317 (0.00063830%), Factors=5\n",
            "Iteration 37: time=0.05, ELBO=-459659.66, deltaELBO=20.349 (0.00063931%), Factors=5\n",
            "Iteration 38: time=0.06, ELBO=-459639.22, deltaELBO=20.443 (0.00064227%), Factors=5\n",
            "Iteration 39: time=0.05, ELBO=-459618.64, deltaELBO=20.579 (0.00064653%), Factors=5\n",
            "Iteration 40: time=0.06, ELBO=-459597.88, deltaELBO=20.754 (0.00065204%), Factors=5\n",
            "Iteration 41: time=0.05, ELBO=-459576.89, deltaELBO=20.998 (0.00065969%), Factors=5\n",
            "Iteration 42: time=0.05, ELBO=-459555.53, deltaELBO=21.359 (0.00067104%), Factors=5\n",
            "Iteration 43: time=0.06, ELBO=-459533.62, deltaELBO=21.905 (0.00068819%), Factors=5\n",
            "Iteration 44: time=0.05, ELBO=-459510.89, deltaELBO=22.732 (0.00071417%), Factors=5\n",
            "Iteration 45: time=0.05, ELBO=-459486.94, deltaELBO=23.947 (0.00075235%), Factors=5\n",
            "Iteration 46: time=0.05, ELBO=-459461.34, deltaELBO=25.602 (0.00080434%), Factors=5\n",
            "Iteration 47: time=0.05, ELBO=-459433.65, deltaELBO=27.695 (0.00087011%), Factors=5\n",
            "Iteration 48: time=0.06, ELBO=-459403.57, deltaELBO=30.078 (0.00094495%), Factors=5\n",
            "Iteration 49: time=0.06, ELBO=-459371.15, deltaELBO=32.415 (0.00101838%), Factors=5\n",
            "Iteration 50: time=0.05, ELBO=-455093.82, deltaELBO=4277.333 (0.13438175%), Factors=5\n",
            "Iteration 51: time=0.05, ELBO=-454746.19, deltaELBO=347.629 (0.01092153%), Factors=5\n",
            "Iteration 52: time=0.06, ELBO=-454635.59, deltaELBO=110.604 (0.00347488%), Factors=5\n",
            "Iteration 53: time=0.06, ELBO=-454579.96, deltaELBO=55.629 (0.00174772%), Factors=5\n",
            "Iteration 54: time=0.05, ELBO=-454541.29, deltaELBO=38.673 (0.00121498%), Factors=5\n",
            "Iteration 55: time=0.05, ELBO=-454507.77, deltaELBO=33.512 (0.00105286%), Factors=5\n",
            "Iteration 56: time=0.05, ELBO=-454475.15, deltaELBO=32.626 (0.00102500%), Factors=5\n",
            "Iteration 57: time=0.05, ELBO=-454441.47, deltaELBO=33.673 (0.00105792%), Factors=5\n",
            "Iteration 58: time=0.05, ELBO=-454405.80, deltaELBO=35.677 (0.00112087%), Factors=5\n",
            "Iteration 59: time=0.06, ELBO=-454367.84, deltaELBO=37.954 (0.00119240%), Factors=5\n",
            "Iteration 60: time=0.06, ELBO=-454327.79, deltaELBO=40.052 (0.00125832%), Factors=5\n",
            "Iteration 61: time=0.05, ELBO=-454285.81, deltaELBO=41.986 (0.00131907%), Factors=5\n",
            "Iteration 62: time=0.05, ELBO=-454242.00, deltaELBO=43.811 (0.00137643%), Factors=5\n",
            "Iteration 63: time=0.05, ELBO=-454198.67, deltaELBO=43.327 (0.00136123%), Factors=5\n",
            "Iteration 64: time=0.06, ELBO=-454161.87, deltaELBO=36.796 (0.00115604%), Factors=5\n",
            "Iteration 65: time=0.05, ELBO=-454135.37, deltaELBO=26.500 (0.00083255%), Factors=5\n",
            "Iteration 66: time=0.05, ELBO=-454117.97, deltaELBO=17.405 (0.00054682%), Factors=5\n",
            "Iteration 67: time=0.07, ELBO=-454106.68, deltaELBO=11.284 (0.00035453%), Factors=5\n",
            "Iteration 68: time=0.05, ELBO=-454098.86, deltaELBO=7.817 (0.00024560%), Factors=5\n",
            "\n",
            "Converged!\n",
            "\n",
            "\n",
            "\n",
            "#######################\n",
            "## Training finished ##\n",
            "#######################\n",
            "\n",
            "\n",
            "No output file name provided as a training options or to the save method. Saving to /tmp/mofa_20210920-201808.hdf5 .\n",
            "Saving model in /tmp/mofa_20210920-201808.hdf5...\n"
          ]
        }
      ]
    }
  ]
}